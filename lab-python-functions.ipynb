{
 "cells": [
  {
   "cell_type": "markdown",
   "id": "25d7736c-ba17-4aff-b6bb-66eba20fbf4e",
   "metadata": {},
   "source": [
    "# Lab | Functions"
   ]
  },
  {
   "cell_type": "markdown",
   "id": "0c581062-8967-4d93-b06e-62833222f930",
   "metadata": {
    "tags": []
   },
   "source": [
    "## Exercise: Managing Customer Orders with Functions\n",
    "\n",
    "In the previous exercise, you improved the code for managing customer orders by using loops and flow control. Now, let's take it a step further and refactor the code by introducing functions.\n",
    "\n",
    "Follow the steps below to complete the exercise:\n",
    "\n",
    "1. Define a function named `initialize_inventory` that takes `products` as a parameter. Inside the function, implement the code for initializing the inventory dictionary using a loop and user input.\n",
    "\n",
    "2. Define a function named `get_customer_orders` that takes no parameters. Inside the function, implement the code for prompting the user to enter the product names using a loop. The function should return the `customer_orders` set.\n",
    "\n",
    "3. Define a function named `update_inventory` that takes `customer_orders` and `inventory` as parameters. Inside the function, implement the code for updating the inventory dictionary based on the customer orders.\n",
    "\n",
    "4. Define a function named `calculate_order_statistics` that takes `customer_orders` and `products` as parameters. Inside the function, implement the code for calculating the order statistics (total products ordered, and percentage of unique products ordered). The function should return these values.\n",
    "\n",
    "5. Define a function named `print_order_statistics` that takes `order_statistics` as a parameter. Inside the function, implement the code for printing the order statistics.\n",
    "\n",
    "6. Define a function named `print_updated_inventory` that takes `inventory` as a parameter. Inside the function, implement the code for printing the updated inventory.\n",
    "\n",
    "7. Call the functions in the appropriate sequence to execute the program and manage customer orders.\n",
    "\n",
    "Hints for functions:\n",
    "\n",
    "- Consider the input parameters required for each function and their return values.\n",
    "- Utilize function parameters and return values to transfer data between functions.\n",
    "- Test your functions individually to ensure they work correctly.\n",
    "\n",
    "\n"
   ]
  },
  {
   "cell_type": "code",
   "execution_count": 45,
   "id": "e817d444-7908-4daf-8a6c-5169569d8f4b",
   "metadata": {},
   "outputs": [
    {
     "name": "stdin",
     "output_type": "stream",
     "text": [
      "Ingresa la cantidad de t-shirt:  5\n",
      "Ingresa la cantidad de mug:  5\n",
      "Ingresa la cantidad de hat:  5\n",
      "Ingresa la cantidad de book:  5\n",
      "Ingresa la cantidad de keychain:  5\n"
     ]
    }
   ],
   "source": [
    "#1.\n",
    "products = [\"t-shirt\", \"mug\", \"hat\", \"book\", \"keychain\"]\n",
    "inventory = {}\n",
    "\n",
    "def initialize_inventory(products):\n",
    "    # Recorrer la lista de productos y solicitar la cantidad para cada uno\n",
    "    for product in products:\n",
    "        # Pedir al usuario ingresar la cantidad para cada producto\n",
    "        quantity = int(input(f\"Ingresa la cantidad de {product}: \"))\n",
    "        # Asignar la cantidad en el diccionario \"inventory\"\n",
    "        inventory[product] = quantity\n",
    "    return inventory\n",
    "\n",
    "initialize_inventory(products)\n"
   ]
  },
  {
   "cell_type": "code",
   "execution_count": 47,
   "id": "4a55a9d7-ca5a-4a71-a5bc-7666eb869f4a",
   "metadata": {},
   "outputs": [
    {
     "name": "stdin",
     "output_type": "stream",
     "text": [
      "¿Quieres añadir otro producto a tu órden?:  yes\n",
      "Ingresa nombre de product1:  mug\n",
      "¿Quieres añadir otro producto a tu órden?:  yes\n",
      "Ingresa nombre de product1:  hat\n",
      "¿Quieres añadir otro producto a tu órden?:  no\n"
     ]
    },
    {
     "name": "stdout",
     "output_type": "stream",
     "text": [
      "Gracias por la compra:\n",
      "{'mug', 'hat'}\n"
     ]
    }
   ],
   "source": [
    "#2.\n",
    "customer_orders = set()\n",
    "def get_customer_orders():\n",
    "    añadir_producto = input(f\"¿Quieres añadir otro producto a tu órden?: \")\n",
    "    while añadir_producto == \"yes\":\n",
    "        product1_name = input(f\"Ingresa nombre de product1: \")\n",
    "        customer_orders.add (product1_name)\n",
    "        añadir_producto = input(f\"¿Quieres añadir otro producto a tu órden?: \")\n",
    "    else:\n",
    "        print(\"Gracias por la compra:\")\n",
    "        print(customer_orders)\n",
    "    return\n",
    "\n",
    "get_customer_orders()"
   ]
  },
  {
   "cell_type": "code",
   "execution_count": 49,
   "id": "19a75026-c9ec-413e-a40d-aba867769d68",
   "metadata": {},
   "outputs": [
    {
     "data": {
      "text/plain": [
       "{'t-shirt': 5, 'mug': 4, 'hat': 4, 'book': 5, 'keychain': 5}"
      ]
     },
     "execution_count": 49,
     "metadata": {},
     "output_type": "execute_result"
    }
   ],
   "source": [
    "#3.\n",
    "\n",
    "def update_inventory(customer_orders,inventory):\n",
    "    for product in customer_orders:\n",
    "        if product in inventory.keys(): #Verifica si el producto está en el inventario.\n",
    "            inventory[product] -= 1 #Resta 1 al inventario del producto product solo si el producto fue ordenado\n",
    "    return inventory\n",
    "\n",
    "update_inventory(customer_orders,inventory)\n",
    "\n"
   ]
  },
  {
   "cell_type": "code",
   "execution_count": 51,
   "id": "59386dea-c09b-413c-9ef9-c4fb947ed222",
   "metadata": {},
   "outputs": [
    {
     "data": {
      "text/plain": [
       "(2, 40)"
      ]
     },
     "execution_count": 51,
     "metadata": {},
     "output_type": "execute_result"
    }
   ],
   "source": [
    "#4.\n",
    "\n",
    "def calculate_order_statistics(customer_orders,products):\n",
    "    #Total Products Number\n",
    "    total_products_number = len(customer_orders)\n",
    "    \n",
    "    #Porcentage of Products Ordered\n",
    "    percentage_products_ordered = int((total_products_number / len(products))*100)\n",
    "\n",
    "    #Devolver las estadísticas\n",
    "    return total_products_number, percentage_products_ordered\n",
    "\n",
    "order_statistics = calculate_order_statistics(customer_orders,products)\n",
    "order_statistics\n",
    "    "
   ]
  },
  {
   "cell_type": "code",
   "execution_count": 53,
   "id": "c11d5333-74d8-41b0-a27f-59a765e8445f",
   "metadata": {},
   "outputs": [
    {
     "name": "stdout",
     "output_type": "stream",
     "text": [
      "(2, 40)\n"
     ]
    }
   ],
   "source": [
    "#5.\n",
    "\n",
    "def print_order_statistics(order_statistics):\n",
    "    print(order_statistics)\n",
    "    return\n",
    "\n",
    "print_order_statistics(order_statistics)\n",
    "    "
   ]
  },
  {
   "cell_type": "code",
   "execution_count": 11,
   "id": "47edbd82-0ba1-446f-b9ec-6fd2c9e35f52",
   "metadata": {},
   "outputs": [
    {
     "name": "stdout",
     "output_type": "stream",
     "text": [
      "{'t-shirt': 4, 'mug': 5, 'hat': 8, 'book': 8, 'keychain': 8}\n"
     ]
    }
   ],
   "source": [
    "#6.\n",
    "\n",
    "def print_updated_inventory(inventory):\n",
    "    print(inventory)\n",
    "    return\n",
    "\n",
    "print_updated_inventory(inventory)\n",
    "    "
   ]
  }
 ],
 "metadata": {
  "kernelspec": {
   "display_name": "Python 3 (ipykernel)",
   "language": "python",
   "name": "python3"
  },
  "language_info": {
   "codemirror_mode": {
    "name": "ipython",
    "version": 3
   },
   "file_extension": ".py",
   "mimetype": "text/x-python",
   "name": "python",
   "nbconvert_exporter": "python",
   "pygments_lexer": "ipython3",
   "version": "3.12.4"
  }
 },
 "nbformat": 4,
 "nbformat_minor": 5
}
